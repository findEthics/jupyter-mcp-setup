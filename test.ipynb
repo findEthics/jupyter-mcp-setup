{
 "cells": [
  {
   "cell_type": "markdown",
   "metadata": {},
   "source": [
    "# Test Notebook\n",
    "\n",
    "This is a test notebook for the Jupyter MCP Server setup."
   ]
  },
  {
   "cell_type": "code",
   "execution_count": null,
   "metadata": {},
   "outputs": [],
   "source": [
    "print(\"Hello from Jupyter MCP Server!\")"
   ]
  },
  {
   "cell_type": "code",
   "execution_count": 1,
   "metadata": {},
   "outputs": [
    {
     "name": "stdout",
     "output_type": "stream",
     "text": [
      "First 10 Fibonacci numbers: [0, 1, 1, 2, 3, 5, 8, 13, 21, 34]\n",
      "First 15 Fibonacci numbers: [0, 1, 1, 2, 3, 5, 8, 13, 21, 34, 55, 89, 144, 233, 377]\n",
      "Edge cases:\n",
      "n=0: []\n",
      "n=1: [0]\n",
      "n=2: [0, 1]\n"
     ]
    }
   ],
   "source": [
    "def fibonacci_generator(n):\n",
    "    \"\"\"\n",
    "    Generate the first n numbers in the Fibonacci sequence.\n",
    "    \n",
    "    Args:\n",
    "        n (int): Number of Fibonacci numbers to generate\n",
    "        \n",
    "    Returns:\n",
    "        list: List containing the first n Fibonacci numbers\n",
    "    \"\"\"\n",
    "    if n <= 0:\n",
    "        return []\n",
    "    elif n == 1:\n",
    "        return [0]\n",
    "    elif n == 2:\n",
    "        return [0, 1]\n",
    "    \n",
    "    fib_sequence = [0, 1]\n",
    "    for i in range(2, n):\n",
    "        next_fib = fib_sequence[i-1] + fib_sequence[i-2]\n",
    "        fib_sequence.append(next_fib)\n",
    "    \n",
    "    return fib_sequence\n",
    "\n",
    "# Test the function with different inputs\n",
    "print(\"First 10 Fibonacci numbers:\", fibonacci_generator(10))\n",
    "print(\"First 15 Fibonacci numbers:\", fibonacci_generator(15))\n",
    "print(\"Edge cases:\")\n",
    "print(\"n=0:\", fibonacci_generator(0))\n",
    "print(\"n=1:\", fibonacci_generator(1))\n",
    "print(\"n=2:\", fibonacci_generator(2))"
   ]
  }
 ],
 "metadata": {
  "kernelspec": {
   "display_name": "Python 3",
   "language": "python",
   "name": "python3"
  },
  "language_info": {
   "codemirror_mode": {
    "name": "ipython",
    "version": 3
   },
   "file_extension": ".py",
   "mimetype": "text/x-python",
   "name": "python",
   "nbconvert_exporter": "python",
   "pygments_lexer": "ipython3",
   "version": "3.8.5"
  }
 },
 "nbformat": 4,
 "nbformat_minor": 4
}
